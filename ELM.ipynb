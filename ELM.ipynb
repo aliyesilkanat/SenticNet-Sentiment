{
 "cells": [
  {
   "cell_type": "code",
   "execution_count": 1,
   "metadata": {},
   "outputs": [],
   "source": [
    "from elm import ELM\n",
    "from sklearn.preprocessing import normalize\n",
    "from sklearn.datasets import fetch_mldata\n",
    "from sklearn.model_selection import train_test_split\n",
    "import numpy as np"
   ]
  },
  {
   "cell_type": "code",
   "execution_count": 18,
   "metadata": {},
   "outputs": [
    {
     "name": "stdout",
     "output_type": "stream",
     "text": [
      "ELM Accuracy 0.505 \n"
     ]
    }
   ],
   "source": [
    "features=np.load(\"features.npx\")\n",
    "nsamples, nx, ny = features.shape\n",
    "features = features.reshape((nsamples,nx*ny))\n",
    "labels=np.load(\"labels.npx\")\n",
    "\n",
    "X_train, X_test, y_train, y_test = train_test_split(\n",
    "    features, labels, test_size=0.2)\n",
    "\n",
    "elm = ELM(hid_num=100).fit(X_train, y_train)\n",
    "\n",
    "print(\"ELM Accuracy %0.3f \" % elm.score(X_test, y_test))"
   ]
  },
  {
   "cell_type": "code",
   "execution_count": 2,
   "metadata": {},
   "outputs": [
    {
     "name": "stdout",
     "output_type": "stream",
     "text": [
      "ELM Accuracy 0.516 \n"
     ]
    }
   ],
   "source": [
    "features=np.load(\"features_without_pos.npx\")\n",
    "nsamples, nx, ny = features.shape\n",
    "features = features.reshape((nsamples,nx*ny))\n",
    "labels=np.load(\"labels_withous_pos.npx\")\n",
    "\n",
    "X_train, X_test, y_train, y_test = train_test_split(\n",
    "    features, labels, test_size=0.2)\n",
    "\n",
    "elm = ELM(hid_num=100).fit(X_train, y_train)\n",
    "\n",
    "print(\"ELM Accuracy %0.3f \" % elm.score(X_test, y_test))"
   ]
  },
  {
   "cell_type": "code",
   "execution_count": null,
   "metadata": {},
   "outputs": [],
   "source": []
  }
 ],
 "metadata": {
  "kernelspec": {
   "display_name": "Python 3",
   "language": "python",
   "name": "python3"
  },
  "language_info": {
   "codemirror_mode": {
    "name": "ipython",
    "version": 3
   },
   "file_extension": ".py",
   "mimetype": "text/x-python",
   "name": "python",
   "nbconvert_exporter": "python",
   "pygments_lexer": "ipython3",
   "version": "3.6.3"
  }
 },
 "nbformat": 4,
 "nbformat_minor": 2
}
