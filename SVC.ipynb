{
 "cells": [
  {
   "cell_type": "code",
   "execution_count": 1,
   "metadata": {},
   "outputs": [],
   "source": [
    "from sklearn.svm import SVC\n",
    "import numpy as np\n",
    "from sklearn import metrics\n"
   ]
  },
  {
   "cell_type": "code",
   "execution_count": 21,
   "metadata": {},
   "outputs": [
    {
     "name": "stdout",
     "output_type": "stream",
     "text": [
      "(2748, 90)\n",
      "(2748,)\n"
     ]
    }
   ],
   "source": [
    "features=np.load(\"features.npx\")\n",
    "nsamples, nx, ny = features.shape\n",
    "features = features.reshape((nsamples,nx*ny))\n",
    "labels=np.load(\"labels.npx\")\n",
    "print(features.shape)\n",
    "print(labels.shape)\n",
    "train_X=features[:2000]\n",
    "train_Y=labels[:2000]\n",
    "test_X=features[2000:]\n",
    "test_Y=labels[2000:]"
   ]
  },
  {
   "cell_type": "code",
   "execution_count": 22,
   "metadata": {},
   "outputs": [],
   "source": [
    "svm=SVC()\n",
    "svc=svm.fit(train_X,train_Y)\n",
    "predictions=svc.predict(test_X)"
   ]
  },
  {
   "cell_type": "code",
   "execution_count": 32,
   "metadata": {},
   "outputs": [
    {
     "name": "stdout",
     "output_type": "stream",
     "text": [
      "Accuracy:  0.614973262032\n",
      "Precision:  0.624664879357\n",
      "Recall:  0.61154855643\n",
      "F1-Score:  0.618037135279\n"
     ]
    }
   ],
   "source": [
    "print(\"Accuracy: \",metrics.accuracy_score(test_Y,predictions))\n",
    "print(\"Precision: \",metrics.precision_score(test_Y,predictions))\n",
    "print(\"Recall: \",metrics.recall_score(test_Y,predictions))\n",
    "print(\"F1-Score: \",metrics.f1_score(test_Y,predictions))"
   ]
  }
 ],
 "metadata": {
  "kernelspec": {
   "display_name": "Python 3",
   "language": "python",
   "name": "python3"
  },
  "language_info": {
   "codemirror_mode": {
    "name": "ipython",
    "version": 3
   },
   "file_extension": ".py",
   "mimetype": "text/x-python",
   "name": "python",
   "nbconvert_exporter": "python",
   "pygments_lexer": "ipython3",
   "version": "3.6.3"
  }
 },
 "nbformat": 4,
 "nbformat_minor": 2
}
